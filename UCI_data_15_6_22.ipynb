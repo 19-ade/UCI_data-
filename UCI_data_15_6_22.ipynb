{
  "nbformat": 4,
  "nbformat_minor": 0,
  "metadata": {
    "colab": {
      "name": "UCI_data.ipynb",
      "provenance": [],
      "collapsed_sections": [],
      "authorship_tag": "ABX9TyNtoZn/gCBpCPLQUL3Rz0RD",
      "include_colab_link": true
    },
    "kernelspec": {
      "name": "python3",
      "display_name": "Python 3"
    },
    "language_info": {
      "name": "python"
    }
  },
  "cells": [
    {
      "cell_type": "markdown",
      "metadata": {
        "id": "view-in-github",
        "colab_type": "text"
      },
      "source": [
        "<a href=\"https://colab.research.google.com/github/19-ade/UCI_data-/blob/main/UCI_data_15_6_22.ipynb\" target=\"_parent\"><img src=\"https://colab.research.google.com/assets/colab-badge.svg\" alt=\"Open In Colab\"/></a>"
      ]
    },
    {
      "cell_type": "markdown",
      "source": [
        ""
      ],
      "metadata": {
        "id": "DOHY8_lMga-J"
      }
    },
    {
      "cell_type": "markdown",
      "source": [
        "\n",
        "Accelerometer Biometric data and analysis [Link to Data](https://archive.ics.uci.edu/ml/datasets/Dataset+for+ADL+Recognition+with+Wrist-worn+Accelerometer#)\n",
        "---\n",
        "\n"
      ],
      "metadata": {
        "id": "TJsE3kDkXO-D"
      }
    },
    {
      "cell_type": "code",
      "source": [
        "! pip install torchlibrosa\n",
        "! pip install pytorch_lightning\n"
      ],
      "metadata": {
        "colab": {
          "base_uri": "https://localhost:8080/"
        },
        "id": "rCU1U9MAL4xH",
        "outputId": "21f0c6d6-e02c-454f-c200-591b2363f293"
      },
      "execution_count": 1,
      "outputs": [
        {
          "output_type": "stream",
          "name": "stdout",
          "text": [
            "Looking in indexes: https://pypi.org/simple, https://us-python.pkg.dev/colab-wheels/public/simple/\n",
            "Collecting torchlibrosa\n",
            "  Downloading torchlibrosa-0.0.9-py3-none-any.whl (11 kB)\n",
            "Requirement already satisfied: librosa>=0.6.0 in /usr/local/lib/python3.7/dist-packages (from torchlibrosa) (0.8.1)\n",
            "Requirement already satisfied: numpy in /usr/local/lib/python3.7/dist-packages (from torchlibrosa) (1.21.6)\n",
            "Requirement already satisfied: numba>=0.43.0 in /usr/local/lib/python3.7/dist-packages (from librosa>=0.6.0->torchlibrosa) (0.51.2)\n",
            "Requirement already satisfied: decorator>=3.0.0 in /usr/local/lib/python3.7/dist-packages (from librosa>=0.6.0->torchlibrosa) (4.4.2)\n",
            "Requirement already satisfied: pooch>=1.0 in /usr/local/lib/python3.7/dist-packages (from librosa>=0.6.0->torchlibrosa) (1.6.0)\n",
            "Requirement already satisfied: resampy>=0.2.2 in /usr/local/lib/python3.7/dist-packages (from librosa>=0.6.0->torchlibrosa) (0.2.2)\n",
            "Requirement already satisfied: audioread>=2.0.0 in /usr/local/lib/python3.7/dist-packages (from librosa>=0.6.0->torchlibrosa) (2.1.9)\n",
            "Requirement already satisfied: packaging>=20.0 in /usr/local/lib/python3.7/dist-packages (from librosa>=0.6.0->torchlibrosa) (21.3)\n",
            "Requirement already satisfied: joblib>=0.14 in /usr/local/lib/python3.7/dist-packages (from librosa>=0.6.0->torchlibrosa) (1.1.0)\n",
            "Requirement already satisfied: scipy>=1.0.0 in /usr/local/lib/python3.7/dist-packages (from librosa>=0.6.0->torchlibrosa) (1.4.1)\n",
            "Requirement already satisfied: scikit-learn!=0.19.0,>=0.14.0 in /usr/local/lib/python3.7/dist-packages (from librosa>=0.6.0->torchlibrosa) (1.0.2)\n",
            "Requirement already satisfied: soundfile>=0.10.2 in /usr/local/lib/python3.7/dist-packages (from librosa>=0.6.0->torchlibrosa) (0.10.3.post1)\n",
            "Requirement already satisfied: setuptools in /usr/local/lib/python3.7/dist-packages (from numba>=0.43.0->librosa>=0.6.0->torchlibrosa) (57.4.0)\n",
            "Requirement already satisfied: llvmlite<0.35,>=0.34.0.dev0 in /usr/local/lib/python3.7/dist-packages (from numba>=0.43.0->librosa>=0.6.0->torchlibrosa) (0.34.0)\n",
            "Requirement already satisfied: pyparsing!=3.0.5,>=2.0.2 in /usr/local/lib/python3.7/dist-packages (from packaging>=20.0->librosa>=0.6.0->torchlibrosa) (3.0.9)\n",
            "Requirement already satisfied: appdirs>=1.3.0 in /usr/local/lib/python3.7/dist-packages (from pooch>=1.0->librosa>=0.6.0->torchlibrosa) (1.4.4)\n",
            "Requirement already satisfied: requests>=2.19.0 in /usr/local/lib/python3.7/dist-packages (from pooch>=1.0->librosa>=0.6.0->torchlibrosa) (2.23.0)\n",
            "Requirement already satisfied: idna<3,>=2.5 in /usr/local/lib/python3.7/dist-packages (from requests>=2.19.0->pooch>=1.0->librosa>=0.6.0->torchlibrosa) (2.10)\n",
            "Requirement already satisfied: urllib3!=1.25.0,!=1.25.1,<1.26,>=1.21.1 in /usr/local/lib/python3.7/dist-packages (from requests>=2.19.0->pooch>=1.0->librosa>=0.6.0->torchlibrosa) (1.24.3)\n",
            "Requirement already satisfied: chardet<4,>=3.0.2 in /usr/local/lib/python3.7/dist-packages (from requests>=2.19.0->pooch>=1.0->librosa>=0.6.0->torchlibrosa) (3.0.4)\n",
            "Requirement already satisfied: certifi>=2017.4.17 in /usr/local/lib/python3.7/dist-packages (from requests>=2.19.0->pooch>=1.0->librosa>=0.6.0->torchlibrosa) (2022.5.18.1)\n",
            "Requirement already satisfied: six>=1.3 in /usr/local/lib/python3.7/dist-packages (from resampy>=0.2.2->librosa>=0.6.0->torchlibrosa) (1.15.0)\n",
            "Requirement already satisfied: threadpoolctl>=2.0.0 in /usr/local/lib/python3.7/dist-packages (from scikit-learn!=0.19.0,>=0.14.0->librosa>=0.6.0->torchlibrosa) (3.1.0)\n",
            "Requirement already satisfied: cffi>=1.0 in /usr/local/lib/python3.7/dist-packages (from soundfile>=0.10.2->librosa>=0.6.0->torchlibrosa) (1.15.0)\n",
            "Requirement already satisfied: pycparser in /usr/local/lib/python3.7/dist-packages (from cffi>=1.0->soundfile>=0.10.2->librosa>=0.6.0->torchlibrosa) (2.21)\n",
            "Installing collected packages: torchlibrosa\n",
            "Successfully installed torchlibrosa-0.0.9\n",
            "Looking in indexes: https://pypi.org/simple, https://us-python.pkg.dev/colab-wheels/public/simple/\n",
            "Collecting pytorch_lightning\n",
            "  Downloading pytorch_lightning-1.6.4-py3-none-any.whl (585 kB)\n",
            "\u001b[K     |████████████████████████████████| 585 kB 4.2 MB/s \n",
            "\u001b[?25hCollecting pyDeprecate>=0.3.1\n",
            "  Downloading pyDeprecate-0.3.2-py3-none-any.whl (10 kB)\n",
            "Requirement already satisfied: tensorboard>=2.2.0 in /usr/local/lib/python3.7/dist-packages (from pytorch_lightning) (2.8.0)\n",
            "Collecting fsspec[http]!=2021.06.0,>=2021.05.0\n",
            "  Downloading fsspec-2022.5.0-py3-none-any.whl (140 kB)\n",
            "\u001b[K     |████████████████████████████████| 140 kB 41.3 MB/s \n",
            "\u001b[?25hCollecting torchmetrics>=0.4.1\n",
            "  Downloading torchmetrics-0.9.1-py3-none-any.whl (419 kB)\n",
            "\u001b[K     |████████████████████████████████| 419 kB 30.7 MB/s \n",
            "\u001b[?25hRequirement already satisfied: torch>=1.8.* in /usr/local/lib/python3.7/dist-packages (from pytorch_lightning) (1.11.0+cu113)\n",
            "Requirement already satisfied: protobuf<=3.20.1 in /usr/local/lib/python3.7/dist-packages (from pytorch_lightning) (3.17.3)\n",
            "Collecting PyYAML>=5.4\n",
            "  Downloading PyYAML-6.0-cp37-cp37m-manylinux_2_5_x86_64.manylinux1_x86_64.manylinux_2_12_x86_64.manylinux2010_x86_64.whl (596 kB)\n",
            "\u001b[K     |████████████████████████████████| 596 kB 35.3 MB/s \n",
            "\u001b[?25hRequirement already satisfied: packaging>=17.0 in /usr/local/lib/python3.7/dist-packages (from pytorch_lightning) (21.3)\n",
            "Requirement already satisfied: tqdm>=4.57.0 in /usr/local/lib/python3.7/dist-packages (from pytorch_lightning) (4.64.0)\n",
            "Requirement already satisfied: typing-extensions>=4.0.0 in /usr/local/lib/python3.7/dist-packages (from pytorch_lightning) (4.2.0)\n",
            "Requirement already satisfied: numpy>=1.17.2 in /usr/local/lib/python3.7/dist-packages (from pytorch_lightning) (1.21.6)\n",
            "Requirement already satisfied: requests in /usr/local/lib/python3.7/dist-packages (from fsspec[http]!=2021.06.0,>=2021.05.0->pytorch_lightning) (2.23.0)\n",
            "Collecting aiohttp\n",
            "  Downloading aiohttp-3.8.1-cp37-cp37m-manylinux_2_5_x86_64.manylinux1_x86_64.manylinux_2_12_x86_64.manylinux2010_x86_64.whl (1.1 MB)\n",
            "\u001b[K     |████████████████████████████████| 1.1 MB 35.2 MB/s \n",
            "\u001b[?25hRequirement already satisfied: pyparsing!=3.0.5,>=2.0.2 in /usr/local/lib/python3.7/dist-packages (from packaging>=17.0->pytorch_lightning) (3.0.9)\n",
            "Requirement already satisfied: six>=1.9 in /usr/local/lib/python3.7/dist-packages (from protobuf<=3.20.1->pytorch_lightning) (1.15.0)\n",
            "Requirement already satisfied: tensorboard-plugin-wit>=1.6.0 in /usr/local/lib/python3.7/dist-packages (from tensorboard>=2.2.0->pytorch_lightning) (1.8.1)\n",
            "Requirement already satisfied: google-auth-oauthlib<0.5,>=0.4.1 in /usr/local/lib/python3.7/dist-packages (from tensorboard>=2.2.0->pytorch_lightning) (0.4.6)\n",
            "Requirement already satisfied: grpcio>=1.24.3 in /usr/local/lib/python3.7/dist-packages (from tensorboard>=2.2.0->pytorch_lightning) (1.46.3)\n",
            "Requirement already satisfied: tensorboard-data-server<0.7.0,>=0.6.0 in /usr/local/lib/python3.7/dist-packages (from tensorboard>=2.2.0->pytorch_lightning) (0.6.1)\n",
            "Requirement already satisfied: markdown>=2.6.8 in /usr/local/lib/python3.7/dist-packages (from tensorboard>=2.2.0->pytorch_lightning) (3.3.7)\n",
            "Requirement already satisfied: google-auth<3,>=1.6.3 in /usr/local/lib/python3.7/dist-packages (from tensorboard>=2.2.0->pytorch_lightning) (1.35.0)\n",
            "Requirement already satisfied: werkzeug>=0.11.15 in /usr/local/lib/python3.7/dist-packages (from tensorboard>=2.2.0->pytorch_lightning) (1.0.1)\n",
            "Requirement already satisfied: absl-py>=0.4 in /usr/local/lib/python3.7/dist-packages (from tensorboard>=2.2.0->pytorch_lightning) (1.1.0)\n",
            "Requirement already satisfied: setuptools>=41.0.0 in /usr/local/lib/python3.7/dist-packages (from tensorboard>=2.2.0->pytorch_lightning) (57.4.0)\n",
            "Requirement already satisfied: wheel>=0.26 in /usr/local/lib/python3.7/dist-packages (from tensorboard>=2.2.0->pytorch_lightning) (0.37.1)\n",
            "Requirement already satisfied: cachetools<5.0,>=2.0.0 in /usr/local/lib/python3.7/dist-packages (from google-auth<3,>=1.6.3->tensorboard>=2.2.0->pytorch_lightning) (4.2.4)\n",
            "Requirement already satisfied: pyasn1-modules>=0.2.1 in /usr/local/lib/python3.7/dist-packages (from google-auth<3,>=1.6.3->tensorboard>=2.2.0->pytorch_lightning) (0.2.8)\n",
            "Requirement already satisfied: rsa<5,>=3.1.4 in /usr/local/lib/python3.7/dist-packages (from google-auth<3,>=1.6.3->tensorboard>=2.2.0->pytorch_lightning) (4.8)\n",
            "Requirement already satisfied: requests-oauthlib>=0.7.0 in /usr/local/lib/python3.7/dist-packages (from google-auth-oauthlib<0.5,>=0.4.1->tensorboard>=2.2.0->pytorch_lightning) (1.3.1)\n",
            "Requirement already satisfied: importlib-metadata>=4.4 in /usr/local/lib/python3.7/dist-packages (from markdown>=2.6.8->tensorboard>=2.2.0->pytorch_lightning) (4.11.4)\n",
            "Requirement already satisfied: zipp>=0.5 in /usr/local/lib/python3.7/dist-packages (from importlib-metadata>=4.4->markdown>=2.6.8->tensorboard>=2.2.0->pytorch_lightning) (3.8.0)\n",
            "Requirement already satisfied: pyasn1<0.5.0,>=0.4.6 in /usr/local/lib/python3.7/dist-packages (from pyasn1-modules>=0.2.1->google-auth<3,>=1.6.3->tensorboard>=2.2.0->pytorch_lightning) (0.4.8)\n",
            "Requirement already satisfied: idna<3,>=2.5 in /usr/local/lib/python3.7/dist-packages (from requests->fsspec[http]!=2021.06.0,>=2021.05.0->pytorch_lightning) (2.10)\n",
            "Requirement already satisfied: certifi>=2017.4.17 in /usr/local/lib/python3.7/dist-packages (from requests->fsspec[http]!=2021.06.0,>=2021.05.0->pytorch_lightning) (2022.5.18.1)\n",
            "Requirement already satisfied: urllib3!=1.25.0,!=1.25.1,<1.26,>=1.21.1 in /usr/local/lib/python3.7/dist-packages (from requests->fsspec[http]!=2021.06.0,>=2021.05.0->pytorch_lightning) (1.24.3)\n",
            "Requirement already satisfied: chardet<4,>=3.0.2 in /usr/local/lib/python3.7/dist-packages (from requests->fsspec[http]!=2021.06.0,>=2021.05.0->pytorch_lightning) (3.0.4)\n",
            "Requirement already satisfied: oauthlib>=3.0.0 in /usr/local/lib/python3.7/dist-packages (from requests-oauthlib>=0.7.0->google-auth-oauthlib<0.5,>=0.4.1->tensorboard>=2.2.0->pytorch_lightning) (3.2.0)\n",
            "Collecting asynctest==0.13.0\n",
            "  Downloading asynctest-0.13.0-py3-none-any.whl (26 kB)\n",
            "Requirement already satisfied: attrs>=17.3.0 in /usr/local/lib/python3.7/dist-packages (from aiohttp->fsspec[http]!=2021.06.0,>=2021.05.0->pytorch_lightning) (21.4.0)\n",
            "Collecting multidict<7.0,>=4.5\n",
            "  Downloading multidict-6.0.2-cp37-cp37m-manylinux_2_17_x86_64.manylinux2014_x86_64.whl (94 kB)\n",
            "\u001b[K     |████████████████████████████████| 94 kB 3.8 MB/s \n",
            "\u001b[?25hCollecting yarl<2.0,>=1.0\n",
            "  Downloading yarl-1.7.2-cp37-cp37m-manylinux_2_5_x86_64.manylinux1_x86_64.manylinux_2_12_x86_64.manylinux2010_x86_64.whl (271 kB)\n",
            "\u001b[K     |████████████████████████████████| 271 kB 48.2 MB/s \n",
            "\u001b[?25hCollecting frozenlist>=1.1.1\n",
            "  Downloading frozenlist-1.3.0-cp37-cp37m-manylinux_2_5_x86_64.manylinux1_x86_64.manylinux_2_17_x86_64.manylinux2014_x86_64.whl (144 kB)\n",
            "\u001b[K     |████████████████████████████████| 144 kB 50.3 MB/s \n",
            "\u001b[?25hCollecting async-timeout<5.0,>=4.0.0a3\n",
            "  Downloading async_timeout-4.0.2-py3-none-any.whl (5.8 kB)\n",
            "Requirement already satisfied: charset-normalizer<3.0,>=2.0 in /usr/local/lib/python3.7/dist-packages (from aiohttp->fsspec[http]!=2021.06.0,>=2021.05.0->pytorch_lightning) (2.0.12)\n",
            "Collecting aiosignal>=1.1.2\n",
            "  Downloading aiosignal-1.2.0-py3-none-any.whl (8.2 kB)\n",
            "Installing collected packages: multidict, frozenlist, yarl, asynctest, async-timeout, aiosignal, fsspec, aiohttp, torchmetrics, PyYAML, pyDeprecate, pytorch-lightning\n",
            "  Attempting uninstall: PyYAML\n",
            "    Found existing installation: PyYAML 3.13\n",
            "    Uninstalling PyYAML-3.13:\n",
            "      Successfully uninstalled PyYAML-3.13\n",
            "Successfully installed PyYAML-6.0 aiohttp-3.8.1 aiosignal-1.2.0 async-timeout-4.0.2 asynctest-0.13.0 frozenlist-1.3.0 fsspec-2022.5.0 multidict-6.0.2 pyDeprecate-0.3.2 pytorch-lightning-1.6.4 torchmetrics-0.9.1 yarl-1.7.2\n"
          ]
        }
      ]
    },
    {
      "cell_type": "code",
      "execution_count": 2,
      "metadata": {
        "id": "mqnOH-qFBT2u"
      },
      "outputs": [],
      "source": [
        "import pandas as pd\n",
        "import numpy as np\n",
        "import torch\n",
        "import torch.nn as nn\n",
        "import torch.nn.functional as F\n",
        "from torchlibrosa.stft import Spectrogram, LogmelFilterBank\n",
        "from torchlibrosa.augmentation import SpecAugmentation\n",
        "from collections import Counter, defaultdict\n",
        "import matplotlib.pyplot as plt \n",
        "import pytorch_lightning as pl\n",
        "import os \n",
        "import scipy \n",
        "\n",
        "#from pytorch_lightning.metrics.functional import accuracy"
      ]
    },
    {
      "cell_type": "code",
      "source": [
        "from google.colab import drive\n",
        "drive.mount('/content/gdrive')"
      ],
      "metadata": {
        "colab": {
          "base_uri": "https://localhost:8080/"
        },
        "id": "5ScO10KOVFYy",
        "outputId": "db3b3584-ade8-4696-f042-8ea827d547ef"
      },
      "execution_count": 6,
      "outputs": [
        {
          "output_type": "stream",
          "name": "stdout",
          "text": [
            "Mounted at /content/gdrive\n"
          ]
        }
      ]
    },
    {
      "cell_type": "code",
      "source": [
        "''' Rules: ( see Manual.txt)\n",
        "\n",
        "Type:\t\t   tri-axial accelerometer\n",
        "Measurement range: [- 1.5g; + 1.5g]\n",
        "Sensitivity: \t   6 bits per axis\n",
        "Output data rate:  32 Hz\n",
        "Location:\t   attached to the right wrist of the user with:\n",
        "\t\t   - x axis: pointing toward the hand\n",
        "\t\t   - y axis: pointing toward the left\n",
        "\t\t   - z axis: perpendicular to the plane of the hand\n",
        "\n",
        "\n",
        "Acceleration data recorded in the dataset are coded according to the following mapping:\n",
        "\t[0; +63] = [-1.5g; +1.5g]\n",
        "The conversion rule to extract the real acceleration value from the coded value is the following:\n",
        "\treal_val = -1.5g + (coded_val/63)*3g\n",
        "\n",
        "\n",
        "Each file in the dataset follows the following naming convention:\n",
        "Accelerometer-[START_TIME]-[HMP]-[VOLUNTEER]\n",
        "where:\n",
        "- [START_TIME]: timestamp of the starting moment of the recording\n",
        "\t\tin the format [YYYY-MM-DD-HH-MM-SS]\n",
        "- [HMP]:\tname of the HMP performed in the recorded trial, following\n",
        "\t\tthe naming convention specified in Section 2 of this manual\n",
        "- [VOLUNTEER]:\tidentification code of the volunteer performing the recorded\n",
        "\t\tmotion in the format [gN] where:\n",
        "\t\t- \"g\" indicates the gender of the volunteer\n",
        "\t\t  (m -> male, f -> female)\n",
        "\t\t- \"N\" indicates the progressive number associated to the\n",
        "\t\t  volunteer\n",
        "\n",
        "For example the file:\n",
        "\tAccelerometer-2011-03-24-10-24-39-climb_stairs-f1.txt\n",
        "refers to an accelerometer recording that was taken on March 24, 2011, starting from 10:24.39 a.m.. \n",
        "The recording refers to the HMP \"climb_stairs\" executed by the volunteer with ID \"f1\".\n",
        "\n",
        "\n",
        "\n",
        "'''\n",
        "PATH = \"/content/gdrive/MyDrive/UCI_data /HMP_Dataset/dataset.csv\"\n",
        "\n",
        "class Make_DataFrame:\n",
        "  def __init__(self):\n",
        "    self.df = pd.DataFrame()\n",
        "\n",
        "  def col_identifier(self, file_name):\n",
        "    # extracting the class and subject_id from \n",
        "    # file name\n",
        "    name_ls = file_name.split('/')[-1].split('-')\n",
        "    cl = name_ls[-2]\n",
        "    v_id = name_ls[-1].split('.')[0]\n",
        "    date_starting_time = \"-\".join(name_ls[1:-2])\n",
        "    return (v_id, cl, date_starting_time)\n",
        "  \n",
        "  def dataframe_maker(self, file_name):\n",
        "    # Reading the files \n",
        "    df1 = pd.read_csv(file_name, sep = \" \", header = None, names = ['X', 'Y',\n",
        "                                                                    'Z'])\n",
        "    # Adding the id, class and date columns\n",
        "    col_return = self.col_identifier(file_name)\n",
        "    df1[['subject_id', 'cat', 'date_time']] = [col_return[0], col_return[1],\n",
        "                                                     col_return[2]]\n",
        "    \n",
        "    # Converting acc data to acceleration\n",
        "    df1.X = self.calc_acc(df1.X.values)\n",
        "    df1.Y = self.calc_acc(df1.Y.values)\n",
        "    df1.Z = self.calc_acc(df1.Z.values)\n",
        "\n",
        "    # Appending to dataframe object\n",
        "    if len(self.df)==0:\n",
        "      self.df = df1\n",
        "    else:\n",
        "      self.df = self.df.append(df1, ignore_index=True)\n",
        "\n",
        "  def calc_acc(self, data):\n",
        "    # calculating the acceleration form the \n",
        "    return -14.709 + (data/63)*(2*14.709)\n",
        "\n",
        "  def store_file(self):\n",
        "    # save the dataset as csv in gdrive\n",
        "    with open(PATH, 'w', encoding = 'utf-8-sig') as f:\n",
        "      self.df.to_csv(f, index_label=False)\n",
        "\n",
        "  \n"
      ],
      "metadata": {
        "id": "HXcnSemGVQS7"
      },
      "execution_count": 38,
      "outputs": []
    },
    {
      "cell_type": "code",
      "source": [
        "# looping over the folders \n",
        "# extracting classes and data \n",
        "\n",
        "DIR_LOC = \"/content/gdrive/MyDrive/UCI_data /HMP_Dataset\"\n",
        "a = Make_DataFrame()\n",
        "for folder in os.listdir(DIR_LOC):\n",
        "  if folder.split('_')[-1] == 'MODEL':\n",
        "    continue\n",
        "  else:\n",
        "    file_list_loc = DIR_LOC + \"/\" + folder\n",
        "    print(file_list_loc)\n",
        "    for file in os.listdir(file_list_loc):\n",
        "      a.dataframe_maker(file_list_loc+\"/\"+file)\n",
        "      #print(a.df)"
      ],
      "metadata": {
        "id": "8W3FIeYHCVz7",
        "colab": {
          "base_uri": "https://localhost:8080/"
        },
        "outputId": "b5f78e12-1a10-4001-d384-f9d39e2b8b08"
      },
      "execution_count": 40,
      "outputs": [
        {
          "output_type": "stream",
          "name": "stdout",
          "text": [
            "/content/gdrive/MyDrive/UCI_data /HMP_Dataset/Pour_water\n",
            "/content/gdrive/MyDrive/UCI_data /HMP_Dataset/Climb_stairs\n",
            "/content/gdrive/MyDrive/UCI_data /HMP_Dataset/Sitdown_chair\n",
            "/content/gdrive/MyDrive/UCI_data /HMP_Dataset/Use_telephone\n",
            "/content/gdrive/MyDrive/UCI_data /HMP_Dataset/Walk\n",
            "/content/gdrive/MyDrive/UCI_data /HMP_Dataset/Standup_chair\n",
            "/content/gdrive/MyDrive/UCI_data /HMP_Dataset/Descend_stairs\n",
            "/content/gdrive/MyDrive/UCI_data /HMP_Dataset/Brush_teeth\n",
            "/content/gdrive/MyDrive/UCI_data /HMP_Dataset/Liedown_bed\n",
            "/content/gdrive/MyDrive/UCI_data /HMP_Dataset/Eat_meat\n",
            "/content/gdrive/MyDrive/UCI_data /HMP_Dataset/Drink_glass\n",
            "/content/gdrive/MyDrive/UCI_data /HMP_Dataset/Getup_bed\n",
            "/content/gdrive/MyDrive/UCI_data /HMP_Dataset/Comb_hair\n",
            "/content/gdrive/MyDrive/UCI_data /HMP_Dataset/Eat_soup\n",
            "/content/gdrive/MyDrive/UCI_data /HMP_Dataset/.ipynb_checkpoints\n"
          ]
        }
      ]
    },
    {
      "cell_type": "code",
      "source": [
        "a.df.head()"
      ],
      "metadata": {
        "colab": {
          "base_uri": "https://localhost:8080/",
          "height": 206
        },
        "id": "5bR7s7fofbUC",
        "outputId": "99183ee9-656c-4a7a-aac2-6cd6a6a37090"
      },
      "execution_count": 33,
      "outputs": [
        {
          "output_type": "execute_result",
          "data": {
            "text/plain": [
              "          X         Y         Z subject_id         cat            date_time\n",
              "0  2.101286  5.836905  7.704714         f1  pour_water  2011-03-24-10-51-12\n",
              "1  2.101286  5.836905  7.704714         f1  pour_water  2011-03-24-10-51-12\n",
              "2  2.568238  5.369952  8.171667         f1  pour_water  2011-03-24-10-51-12\n",
              "3  2.101286  5.836905  8.638619         f1  pour_water  2011-03-24-10-51-12\n",
              "4  2.101286  5.369952  8.171667         f1  pour_water  2011-03-24-10-51-12"
            ],
            "text/html": [
              "\n",
              "  <div id=\"df-90cd2136-3cd1-4774-9b8d-6590d2aa5efe\">\n",
              "    <div class=\"colab-df-container\">\n",
              "      <div>\n",
              "<style scoped>\n",
              "    .dataframe tbody tr th:only-of-type {\n",
              "        vertical-align: middle;\n",
              "    }\n",
              "\n",
              "    .dataframe tbody tr th {\n",
              "        vertical-align: top;\n",
              "    }\n",
              "\n",
              "    .dataframe thead th {\n",
              "        text-align: right;\n",
              "    }\n",
              "</style>\n",
              "<table border=\"1\" class=\"dataframe\">\n",
              "  <thead>\n",
              "    <tr style=\"text-align: right;\">\n",
              "      <th></th>\n",
              "      <th>X</th>\n",
              "      <th>Y</th>\n",
              "      <th>Z</th>\n",
              "      <th>subject_id</th>\n",
              "      <th>cat</th>\n",
              "      <th>date_time</th>\n",
              "    </tr>\n",
              "  </thead>\n",
              "  <tbody>\n",
              "    <tr>\n",
              "      <th>0</th>\n",
              "      <td>2.101286</td>\n",
              "      <td>5.836905</td>\n",
              "      <td>7.704714</td>\n",
              "      <td>f1</td>\n",
              "      <td>pour_water</td>\n",
              "      <td>2011-03-24-10-51-12</td>\n",
              "    </tr>\n",
              "    <tr>\n",
              "      <th>1</th>\n",
              "      <td>2.101286</td>\n",
              "      <td>5.836905</td>\n",
              "      <td>7.704714</td>\n",
              "      <td>f1</td>\n",
              "      <td>pour_water</td>\n",
              "      <td>2011-03-24-10-51-12</td>\n",
              "    </tr>\n",
              "    <tr>\n",
              "      <th>2</th>\n",
              "      <td>2.568238</td>\n",
              "      <td>5.369952</td>\n",
              "      <td>8.171667</td>\n",
              "      <td>f1</td>\n",
              "      <td>pour_water</td>\n",
              "      <td>2011-03-24-10-51-12</td>\n",
              "    </tr>\n",
              "    <tr>\n",
              "      <th>3</th>\n",
              "      <td>2.101286</td>\n",
              "      <td>5.836905</td>\n",
              "      <td>8.638619</td>\n",
              "      <td>f1</td>\n",
              "      <td>pour_water</td>\n",
              "      <td>2011-03-24-10-51-12</td>\n",
              "    </tr>\n",
              "    <tr>\n",
              "      <th>4</th>\n",
              "      <td>2.101286</td>\n",
              "      <td>5.369952</td>\n",
              "      <td>8.171667</td>\n",
              "      <td>f1</td>\n",
              "      <td>pour_water</td>\n",
              "      <td>2011-03-24-10-51-12</td>\n",
              "    </tr>\n",
              "  </tbody>\n",
              "</table>\n",
              "</div>\n",
              "      <button class=\"colab-df-convert\" onclick=\"convertToInteractive('df-90cd2136-3cd1-4774-9b8d-6590d2aa5efe')\"\n",
              "              title=\"Convert this dataframe to an interactive table.\"\n",
              "              style=\"display:none;\">\n",
              "        \n",
              "  <svg xmlns=\"http://www.w3.org/2000/svg\" height=\"24px\"viewBox=\"0 0 24 24\"\n",
              "       width=\"24px\">\n",
              "    <path d=\"M0 0h24v24H0V0z\" fill=\"none\"/>\n",
              "    <path d=\"M18.56 5.44l.94 2.06.94-2.06 2.06-.94-2.06-.94-.94-2.06-.94 2.06-2.06.94zm-11 1L8.5 8.5l.94-2.06 2.06-.94-2.06-.94L8.5 2.5l-.94 2.06-2.06.94zm10 10l.94 2.06.94-2.06 2.06-.94-2.06-.94-.94-2.06-.94 2.06-2.06.94z\"/><path d=\"M17.41 7.96l-1.37-1.37c-.4-.4-.92-.59-1.43-.59-.52 0-1.04.2-1.43.59L10.3 9.45l-7.72 7.72c-.78.78-.78 2.05 0 2.83L4 21.41c.39.39.9.59 1.41.59.51 0 1.02-.2 1.41-.59l7.78-7.78 2.81-2.81c.8-.78.8-2.07 0-2.86zM5.41 20L4 18.59l7.72-7.72 1.47 1.35L5.41 20z\"/>\n",
              "  </svg>\n",
              "      </button>\n",
              "      \n",
              "  <style>\n",
              "    .colab-df-container {\n",
              "      display:flex;\n",
              "      flex-wrap:wrap;\n",
              "      gap: 12px;\n",
              "    }\n",
              "\n",
              "    .colab-df-convert {\n",
              "      background-color: #E8F0FE;\n",
              "      border: none;\n",
              "      border-radius: 50%;\n",
              "      cursor: pointer;\n",
              "      display: none;\n",
              "      fill: #1967D2;\n",
              "      height: 32px;\n",
              "      padding: 0 0 0 0;\n",
              "      width: 32px;\n",
              "    }\n",
              "\n",
              "    .colab-df-convert:hover {\n",
              "      background-color: #E2EBFA;\n",
              "      box-shadow: 0px 1px 2px rgba(60, 64, 67, 0.3), 0px 1px 3px 1px rgba(60, 64, 67, 0.15);\n",
              "      fill: #174EA6;\n",
              "    }\n",
              "\n",
              "    [theme=dark] .colab-df-convert {\n",
              "      background-color: #3B4455;\n",
              "      fill: #D2E3FC;\n",
              "    }\n",
              "\n",
              "    [theme=dark] .colab-df-convert:hover {\n",
              "      background-color: #434B5C;\n",
              "      box-shadow: 0px 1px 3px 1px rgba(0, 0, 0, 0.15);\n",
              "      filter: drop-shadow(0px 1px 2px rgba(0, 0, 0, 0.3));\n",
              "      fill: #FFFFFF;\n",
              "    }\n",
              "  </style>\n",
              "\n",
              "      <script>\n",
              "        const buttonEl =\n",
              "          document.querySelector('#df-90cd2136-3cd1-4774-9b8d-6590d2aa5efe button.colab-df-convert');\n",
              "        buttonEl.style.display =\n",
              "          google.colab.kernel.accessAllowed ? 'block' : 'none';\n",
              "\n",
              "        async function convertToInteractive(key) {\n",
              "          const element = document.querySelector('#df-90cd2136-3cd1-4774-9b8d-6590d2aa5efe');\n",
              "          const dataTable =\n",
              "            await google.colab.kernel.invokeFunction('convertToInteractive',\n",
              "                                                     [key], {});\n",
              "          if (!dataTable) return;\n",
              "\n",
              "          const docLinkHtml = 'Like what you see? Visit the ' +\n",
              "            '<a target=\"_blank\" href=https://colab.research.google.com/notebooks/data_table.ipynb>data table notebook</a>'\n",
              "            + ' to learn more about interactive tables.';\n",
              "          element.innerHTML = '';\n",
              "          dataTable['output_type'] = 'display_data';\n",
              "          await google.colab.output.renderOutput(dataTable, element);\n",
              "          const docLink = document.createElement('div');\n",
              "          docLink.innerHTML = docLinkHtml;\n",
              "          element.appendChild(docLink);\n",
              "        }\n",
              "      </script>\n",
              "    </div>\n",
              "  </div>\n",
              "  "
            ]
          },
          "metadata": {},
          "execution_count": 33
        }
      ]
    },
    {
      "cell_type": "code",
      "source": [
        "# save the file in the gdrive folder\n",
        "\n",
        "a.store_file()"
      ],
      "metadata": {
        "id": "MHMr-DJwvnfi"
      },
      "execution_count": 41,
      "outputs": []
    },
    {
      "cell_type": "code",
      "source": [
        "# load dataset from folder \n",
        "PATH_TO_DATASET = '/content/gdrive/MyDrive/UCI_data /HMP_Dataset/dataset.csv' # change this \n",
        "\n",
        "df1 = pd.read_csv(PATH_TO_DATASET)\n",
        "df1.subject_id.unique()"
      ],
      "metadata": {
        "colab": {
          "base_uri": "https://localhost:8080/"
        },
        "id": "elecUZ4FtjTc",
        "outputId": "d32f9358-ab28-478a-db20-6ad69702acb3"
      },
      "execution_count": 53,
      "outputs": [
        {
          "output_type": "execute_result",
          "data": {
            "text/plain": [
              "array(['f1', 'm2', 'f4', 'm1', 'm9', 'f2', 'm3', 'f3', 'm4', 'm11', 'm5',\n",
              "       'm6', 'm7', 'm8', 'm10', 'f5'], dtype=object)"
            ]
          },
          "metadata": {},
          "execution_count": 53
        }
      ]
    },
    {
      "cell_type": "code",
      "source": [
        "df1.head()"
      ],
      "metadata": {
        "colab": {
          "base_uri": "https://localhost:8080/",
          "height": 206
        },
        "id": "pDKenpjm2TXI",
        "outputId": "b356be1a-d366-4587-c428-d310d93ff699"
      },
      "execution_count": 51,
      "outputs": [
        {
          "output_type": "execute_result",
          "data": {
            "text/plain": [
              "          X         Y         Z subject_id         cat            date_time\n",
              "0  2.101286  5.836905  7.704714         f1  pour_water  2011-03-24-10-51-12\n",
              "1  2.101286  5.836905  7.704714         f1  pour_water  2011-03-24-10-51-12\n",
              "2  2.568238  5.369952  8.171667         f1  pour_water  2011-03-24-10-51-12\n",
              "3  2.101286  5.836905  8.638619         f1  pour_water  2011-03-24-10-51-12\n",
              "4  2.101286  5.369952  8.171667         f1  pour_water  2011-03-24-10-51-12"
            ],
            "text/html": [
              "\n",
              "  <div id=\"df-7cbd6fdf-ea12-40f7-bfda-b5c8575f6be6\">\n",
              "    <div class=\"colab-df-container\">\n",
              "      <div>\n",
              "<style scoped>\n",
              "    .dataframe tbody tr th:only-of-type {\n",
              "        vertical-align: middle;\n",
              "    }\n",
              "\n",
              "    .dataframe tbody tr th {\n",
              "        vertical-align: top;\n",
              "    }\n",
              "\n",
              "    .dataframe thead th {\n",
              "        text-align: right;\n",
              "    }\n",
              "</style>\n",
              "<table border=\"1\" class=\"dataframe\">\n",
              "  <thead>\n",
              "    <tr style=\"text-align: right;\">\n",
              "      <th></th>\n",
              "      <th>X</th>\n",
              "      <th>Y</th>\n",
              "      <th>Z</th>\n",
              "      <th>subject_id</th>\n",
              "      <th>cat</th>\n",
              "      <th>date_time</th>\n",
              "    </tr>\n",
              "  </thead>\n",
              "  <tbody>\n",
              "    <tr>\n",
              "      <th>0</th>\n",
              "      <td>2.101286</td>\n",
              "      <td>5.836905</td>\n",
              "      <td>7.704714</td>\n",
              "      <td>f1</td>\n",
              "      <td>pour_water</td>\n",
              "      <td>2011-03-24-10-51-12</td>\n",
              "    </tr>\n",
              "    <tr>\n",
              "      <th>1</th>\n",
              "      <td>2.101286</td>\n",
              "      <td>5.836905</td>\n",
              "      <td>7.704714</td>\n",
              "      <td>f1</td>\n",
              "      <td>pour_water</td>\n",
              "      <td>2011-03-24-10-51-12</td>\n",
              "    </tr>\n",
              "    <tr>\n",
              "      <th>2</th>\n",
              "      <td>2.568238</td>\n",
              "      <td>5.369952</td>\n",
              "      <td>8.171667</td>\n",
              "      <td>f1</td>\n",
              "      <td>pour_water</td>\n",
              "      <td>2011-03-24-10-51-12</td>\n",
              "    </tr>\n",
              "    <tr>\n",
              "      <th>3</th>\n",
              "      <td>2.101286</td>\n",
              "      <td>5.836905</td>\n",
              "      <td>8.638619</td>\n",
              "      <td>f1</td>\n",
              "      <td>pour_water</td>\n",
              "      <td>2011-03-24-10-51-12</td>\n",
              "    </tr>\n",
              "    <tr>\n",
              "      <th>4</th>\n",
              "      <td>2.101286</td>\n",
              "      <td>5.369952</td>\n",
              "      <td>8.171667</td>\n",
              "      <td>f1</td>\n",
              "      <td>pour_water</td>\n",
              "      <td>2011-03-24-10-51-12</td>\n",
              "    </tr>\n",
              "  </tbody>\n",
              "</table>\n",
              "</div>\n",
              "      <button class=\"colab-df-convert\" onclick=\"convertToInteractive('df-7cbd6fdf-ea12-40f7-bfda-b5c8575f6be6')\"\n",
              "              title=\"Convert this dataframe to an interactive table.\"\n",
              "              style=\"display:none;\">\n",
              "        \n",
              "  <svg xmlns=\"http://www.w3.org/2000/svg\" height=\"24px\"viewBox=\"0 0 24 24\"\n",
              "       width=\"24px\">\n",
              "    <path d=\"M0 0h24v24H0V0z\" fill=\"none\"/>\n",
              "    <path d=\"M18.56 5.44l.94 2.06.94-2.06 2.06-.94-2.06-.94-.94-2.06-.94 2.06-2.06.94zm-11 1L8.5 8.5l.94-2.06 2.06-.94-2.06-.94L8.5 2.5l-.94 2.06-2.06.94zm10 10l.94 2.06.94-2.06 2.06-.94-2.06-.94-.94-2.06-.94 2.06-2.06.94z\"/><path d=\"M17.41 7.96l-1.37-1.37c-.4-.4-.92-.59-1.43-.59-.52 0-1.04.2-1.43.59L10.3 9.45l-7.72 7.72c-.78.78-.78 2.05 0 2.83L4 21.41c.39.39.9.59 1.41.59.51 0 1.02-.2 1.41-.59l7.78-7.78 2.81-2.81c.8-.78.8-2.07 0-2.86zM5.41 20L4 18.59l7.72-7.72 1.47 1.35L5.41 20z\"/>\n",
              "  </svg>\n",
              "      </button>\n",
              "      \n",
              "  <style>\n",
              "    .colab-df-container {\n",
              "      display:flex;\n",
              "      flex-wrap:wrap;\n",
              "      gap: 12px;\n",
              "    }\n",
              "\n",
              "    .colab-df-convert {\n",
              "      background-color: #E8F0FE;\n",
              "      border: none;\n",
              "      border-radius: 50%;\n",
              "      cursor: pointer;\n",
              "      display: none;\n",
              "      fill: #1967D2;\n",
              "      height: 32px;\n",
              "      padding: 0 0 0 0;\n",
              "      width: 32px;\n",
              "    }\n",
              "\n",
              "    .colab-df-convert:hover {\n",
              "      background-color: #E2EBFA;\n",
              "      box-shadow: 0px 1px 2px rgba(60, 64, 67, 0.3), 0px 1px 3px 1px rgba(60, 64, 67, 0.15);\n",
              "      fill: #174EA6;\n",
              "    }\n",
              "\n",
              "    [theme=dark] .colab-df-convert {\n",
              "      background-color: #3B4455;\n",
              "      fill: #D2E3FC;\n",
              "    }\n",
              "\n",
              "    [theme=dark] .colab-df-convert:hover {\n",
              "      background-color: #434B5C;\n",
              "      box-shadow: 0px 1px 3px 1px rgba(0, 0, 0, 0.15);\n",
              "      filter: drop-shadow(0px 1px 2px rgba(0, 0, 0, 0.3));\n",
              "      fill: #FFFFFF;\n",
              "    }\n",
              "  </style>\n",
              "\n",
              "      <script>\n",
              "        const buttonEl =\n",
              "          document.querySelector('#df-7cbd6fdf-ea12-40f7-bfda-b5c8575f6be6 button.colab-df-convert');\n",
              "        buttonEl.style.display =\n",
              "          google.colab.kernel.accessAllowed ? 'block' : 'none';\n",
              "\n",
              "        async function convertToInteractive(key) {\n",
              "          const element = document.querySelector('#df-7cbd6fdf-ea12-40f7-bfda-b5c8575f6be6');\n",
              "          const dataTable =\n",
              "            await google.colab.kernel.invokeFunction('convertToInteractive',\n",
              "                                                     [key], {});\n",
              "          if (!dataTable) return;\n",
              "\n",
              "          const docLinkHtml = 'Like what you see? Visit the ' +\n",
              "            '<a target=\"_blank\" href=https://colab.research.google.com/notebooks/data_table.ipynb>data table notebook</a>'\n",
              "            + ' to learn more about interactive tables.';\n",
              "          element.innerHTML = '';\n",
              "          dataTable['output_type'] = 'display_data';\n",
              "          await google.colab.output.renderOutput(dataTable, element);\n",
              "          const docLink = document.createElement('div');\n",
              "          docLink.innerHTML = docLinkHtml;\n",
              "          element.appendChild(docLink);\n",
              "        }\n",
              "      </script>\n",
              "    </div>\n",
              "  </div>\n",
              "  "
            ]
          },
          "metadata": {},
          "execution_count": 51
        }
      ]
    },
    {
      "cell_type": "code",
      "source": [
        "df1.cat.unique()"
      ],
      "metadata": {
        "colab": {
          "base_uri": "https://localhost:8080/"
        },
        "id": "W9UKcfewtn03",
        "outputId": "fe0b877d-0967-40d4-c981-b7c48a64e3fa"
      },
      "execution_count": 44,
      "outputs": [
        {
          "output_type": "execute_result",
          "data": {
            "text/plain": [
              "array(['pour_water', 'climb_stairs', 'sitdown_chair', 'use_telephone',\n",
              "       'walk', 'standup_chair', 'descend_stairs', 'brush_teeth',\n",
              "       'liedown_bed', 'eat_meat', 'drink_glass', 'getup_bed', 'comb_hair',\n",
              "       'eat_soup'], dtype=object)"
            ]
          },
          "metadata": {},
          "execution_count": 44
        }
      ]
    },
    {
      "cell_type": "code",
      "source": [
        "for i in df1.columns:\n",
        "  print(df1[i].isna().sum())"
      ],
      "metadata": {
        "colab": {
          "base_uri": "https://localhost:8080/"
        },
        "id": "0NFbm5PFvQHj",
        "outputId": "a48df199-4528-4223-9563-8d497a1efd1b"
      },
      "execution_count": 45,
      "outputs": [
        {
          "output_type": "stream",
          "name": "stdout",
          "text": [
            "0\n",
            "0\n",
            "0\n",
            "0\n",
            "0\n",
            "0\n"
          ]
        }
      ]
    },
    {
      "cell_type": "code",
      "source": [
        "df1.describe()"
      ],
      "metadata": {
        "colab": {
          "base_uri": "https://localhost:8080/",
          "height": 300
        },
        "id": "Kx9MvvXgD1bT",
        "outputId": "c21514d8-e726-43c4-862b-56fe624e54b7"
      },
      "execution_count": 46,
      "outputs": [
        {
          "output_type": "execute_result",
          "data": {
            "text/plain": [
              "                   X              Y              Z\n",
              "count  446529.000000  446529.000000  446529.000000\n",
              "mean       -3.188558       3.137682       4.828214\n",
              "std         5.677017       3.591185       3.877309\n",
              "min       -14.709000     -14.709000     -14.709000\n",
              "25%        -8.638619       1.634333       1.634333\n",
              "50%        -3.035190       3.035190       4.903000\n",
              "75%         1.167381       4.903000       8.638619\n",
              "max        14.709000      14.709000      14.709000"
            ],
            "text/html": [
              "\n",
              "  <div id=\"df-80e8ff8b-c4b9-4e31-b51e-c67bd9d7dadb\">\n",
              "    <div class=\"colab-df-container\">\n",
              "      <div>\n",
              "<style scoped>\n",
              "    .dataframe tbody tr th:only-of-type {\n",
              "        vertical-align: middle;\n",
              "    }\n",
              "\n",
              "    .dataframe tbody tr th {\n",
              "        vertical-align: top;\n",
              "    }\n",
              "\n",
              "    .dataframe thead th {\n",
              "        text-align: right;\n",
              "    }\n",
              "</style>\n",
              "<table border=\"1\" class=\"dataframe\">\n",
              "  <thead>\n",
              "    <tr style=\"text-align: right;\">\n",
              "      <th></th>\n",
              "      <th>X</th>\n",
              "      <th>Y</th>\n",
              "      <th>Z</th>\n",
              "    </tr>\n",
              "  </thead>\n",
              "  <tbody>\n",
              "    <tr>\n",
              "      <th>count</th>\n",
              "      <td>446529.000000</td>\n",
              "      <td>446529.000000</td>\n",
              "      <td>446529.000000</td>\n",
              "    </tr>\n",
              "    <tr>\n",
              "      <th>mean</th>\n",
              "      <td>-3.188558</td>\n",
              "      <td>3.137682</td>\n",
              "      <td>4.828214</td>\n",
              "    </tr>\n",
              "    <tr>\n",
              "      <th>std</th>\n",
              "      <td>5.677017</td>\n",
              "      <td>3.591185</td>\n",
              "      <td>3.877309</td>\n",
              "    </tr>\n",
              "    <tr>\n",
              "      <th>min</th>\n",
              "      <td>-14.709000</td>\n",
              "      <td>-14.709000</td>\n",
              "      <td>-14.709000</td>\n",
              "    </tr>\n",
              "    <tr>\n",
              "      <th>25%</th>\n",
              "      <td>-8.638619</td>\n",
              "      <td>1.634333</td>\n",
              "      <td>1.634333</td>\n",
              "    </tr>\n",
              "    <tr>\n",
              "      <th>50%</th>\n",
              "      <td>-3.035190</td>\n",
              "      <td>3.035190</td>\n",
              "      <td>4.903000</td>\n",
              "    </tr>\n",
              "    <tr>\n",
              "      <th>75%</th>\n",
              "      <td>1.167381</td>\n",
              "      <td>4.903000</td>\n",
              "      <td>8.638619</td>\n",
              "    </tr>\n",
              "    <tr>\n",
              "      <th>max</th>\n",
              "      <td>14.709000</td>\n",
              "      <td>14.709000</td>\n",
              "      <td>14.709000</td>\n",
              "    </tr>\n",
              "  </tbody>\n",
              "</table>\n",
              "</div>\n",
              "      <button class=\"colab-df-convert\" onclick=\"convertToInteractive('df-80e8ff8b-c4b9-4e31-b51e-c67bd9d7dadb')\"\n",
              "              title=\"Convert this dataframe to an interactive table.\"\n",
              "              style=\"display:none;\">\n",
              "        \n",
              "  <svg xmlns=\"http://www.w3.org/2000/svg\" height=\"24px\"viewBox=\"0 0 24 24\"\n",
              "       width=\"24px\">\n",
              "    <path d=\"M0 0h24v24H0V0z\" fill=\"none\"/>\n",
              "    <path d=\"M18.56 5.44l.94 2.06.94-2.06 2.06-.94-2.06-.94-.94-2.06-.94 2.06-2.06.94zm-11 1L8.5 8.5l.94-2.06 2.06-.94-2.06-.94L8.5 2.5l-.94 2.06-2.06.94zm10 10l.94 2.06.94-2.06 2.06-.94-2.06-.94-.94-2.06-.94 2.06-2.06.94z\"/><path d=\"M17.41 7.96l-1.37-1.37c-.4-.4-.92-.59-1.43-.59-.52 0-1.04.2-1.43.59L10.3 9.45l-7.72 7.72c-.78.78-.78 2.05 0 2.83L4 21.41c.39.39.9.59 1.41.59.51 0 1.02-.2 1.41-.59l7.78-7.78 2.81-2.81c.8-.78.8-2.07 0-2.86zM5.41 20L4 18.59l7.72-7.72 1.47 1.35L5.41 20z\"/>\n",
              "  </svg>\n",
              "      </button>\n",
              "      \n",
              "  <style>\n",
              "    .colab-df-container {\n",
              "      display:flex;\n",
              "      flex-wrap:wrap;\n",
              "      gap: 12px;\n",
              "    }\n",
              "\n",
              "    .colab-df-convert {\n",
              "      background-color: #E8F0FE;\n",
              "      border: none;\n",
              "      border-radius: 50%;\n",
              "      cursor: pointer;\n",
              "      display: none;\n",
              "      fill: #1967D2;\n",
              "      height: 32px;\n",
              "      padding: 0 0 0 0;\n",
              "      width: 32px;\n",
              "    }\n",
              "\n",
              "    .colab-df-convert:hover {\n",
              "      background-color: #E2EBFA;\n",
              "      box-shadow: 0px 1px 2px rgba(60, 64, 67, 0.3), 0px 1px 3px 1px rgba(60, 64, 67, 0.15);\n",
              "      fill: #174EA6;\n",
              "    }\n",
              "\n",
              "    [theme=dark] .colab-df-convert {\n",
              "      background-color: #3B4455;\n",
              "      fill: #D2E3FC;\n",
              "    }\n",
              "\n",
              "    [theme=dark] .colab-df-convert:hover {\n",
              "      background-color: #434B5C;\n",
              "      box-shadow: 0px 1px 3px 1px rgba(0, 0, 0, 0.15);\n",
              "      filter: drop-shadow(0px 1px 2px rgba(0, 0, 0, 0.3));\n",
              "      fill: #FFFFFF;\n",
              "    }\n",
              "  </style>\n",
              "\n",
              "      <script>\n",
              "        const buttonEl =\n",
              "          document.querySelector('#df-80e8ff8b-c4b9-4e31-b51e-c67bd9d7dadb button.colab-df-convert');\n",
              "        buttonEl.style.display =\n",
              "          google.colab.kernel.accessAllowed ? 'block' : 'none';\n",
              "\n",
              "        async function convertToInteractive(key) {\n",
              "          const element = document.querySelector('#df-80e8ff8b-c4b9-4e31-b51e-c67bd9d7dadb');\n",
              "          const dataTable =\n",
              "            await google.colab.kernel.invokeFunction('convertToInteractive',\n",
              "                                                     [key], {});\n",
              "          if (!dataTable) return;\n",
              "\n",
              "          const docLinkHtml = 'Like what you see? Visit the ' +\n",
              "            '<a target=\"_blank\" href=https://colab.research.google.com/notebooks/data_table.ipynb>data table notebook</a>'\n",
              "            + ' to learn more about interactive tables.';\n",
              "          element.innerHTML = '';\n",
              "          dataTable['output_type'] = 'display_data';\n",
              "          await google.colab.output.renderOutput(dataTable, element);\n",
              "          const docLink = document.createElement('div');\n",
              "          docLink.innerHTML = docLinkHtml;\n",
              "          element.appendChild(docLink);\n",
              "        }\n",
              "      </script>\n",
              "    </div>\n",
              "  </div>\n",
              "  "
            ]
          },
          "metadata": {},
          "execution_count": 46
        }
      ]
    },
    {
      "cell_type": "code",
      "source": [
        "df1.describe"
      ],
      "metadata": {
        "colab": {
          "base_uri": "https://localhost:8080/"
        },
        "id": "dtCl7Bqqxjnd",
        "outputId": "ee4c703a-a581-4dfa-d200-666138163aaf"
      },
      "execution_count": 47,
      "outputs": [
        {
          "output_type": "execute_result",
          "data": {
            "text/plain": [
              "<bound method NDFrame.describe of                X         Y         Z subject_id         cat  \\\n",
              "0       2.101286  5.836905  7.704714         f1  pour_water   \n",
              "1       2.101286  5.836905  7.704714         f1  pour_water   \n",
              "2       2.568238  5.369952  8.171667         f1  pour_water   \n",
              "3       2.101286  5.836905  8.638619         f1  pour_water   \n",
              "4       2.101286  5.369952  8.171667         f1  pour_water   \n",
              "...          ...       ...       ...        ...         ...   \n",
              "446524  1.634333  7.704714  6.770810         f1    eat_soup   \n",
              "446525  1.634333  7.704714  6.770810         f1    eat_soup   \n",
              "446526  1.634333  6.770810  6.303857         f1    eat_soup   \n",
              "446527  1.634333  7.237762  6.770810         f1    eat_soup   \n",
              "446528  1.634333  8.171667  6.770810         f1    eat_soup   \n",
              "\n",
              "                  date_time  \n",
              "0       2011-03-24-10-51-12  \n",
              "1       2011-03-24-10-51-12  \n",
              "2       2011-03-24-10-51-12  \n",
              "3       2011-03-24-10-51-12  \n",
              "4       2011-03-24-10-51-12  \n",
              "...                     ...  \n",
              "446524  2011-03-24-13-56-42  \n",
              "446525  2011-03-24-13-56-42  \n",
              "446526  2011-03-24-13-56-42  \n",
              "446527  2011-03-24-13-56-42  \n",
              "446528  2011-03-24-13-56-42  \n",
              "\n",
              "[446529 rows x 6 columns]>"
            ]
          },
          "metadata": {},
          "execution_count": 47
        }
      ]
    },
    {
      "cell_type": "code",
      "source": [
        "# category and sequence stats \n",
        "l = []\n",
        "c = {key: None for key in df1.cat.unique()}\n",
        "for i in df1.date_time.unique():\n",
        "  l.append(len(df1[df1['date_time']==i]))\n",
        "  cat = df1[df1['date_time']==i]['cat'].unique()[0]\n",
        "  if c[cat]==None:\n",
        "     c[cat] = [len(df1[df1['date_time']==i])]\n",
        "  else:\n",
        "    c[cat].append(len(df1[df1['date_time']==i]))\n",
        "print(\"Sequence: \\n\")\n",
        "print(f\"Avg length : {np.mean(l):.2f}\")\n",
        "print(f\"Max length : {np.max(l)}\")\n",
        "print(f\"Min length : {np.min(l)}\")\n",
        "print(f\"Median length : {np.median(l)}\\n\")\n",
        "\n",
        "print(\"Cat: \\n\")\n",
        "for key, value in c.items():\n",
        "  print(f\"Cat: {key}\")\n",
        "  print(f\"Mean: {np.mean(c[key]):.2f}, Max: {np.max(c[key])}, MIn: {np.min(c[key])}, Median: {np.median(c[key])}\")\n",
        "\n"
      ],
      "metadata": {
        "colab": {
          "base_uri": "https://localhost:8080/"
        },
        "id": "dMdKjoUlA-8B",
        "outputId": "5b8d57bb-c2a0-4a85-c1bf-a50a4c2e8234"
      },
      "execution_count": 50,
      "outputs": [
        {
          "output_type": "stream",
          "name": "stdout",
          "text": [
            "Sequence: \n",
            "\n",
            "Avg length : 532.22\n",
            "Max length : 9318\n",
            "Min length : 125\n",
            "Median length : 403.0\n",
            "\n",
            "Cat: \n",
            "\n",
            "Cat: pour_water\n",
            "Mean: 416.73, Max: 810, MIn: 244, Median: 406.0\n",
            "Cat: climb_stairs\n",
            "Mean: 394.69, Max: 805, MIn: 166, Median: 402.5\n",
            "Cat: sitdown_chair\n",
            "Mean: 250.36, Max: 691, MIn: 125, Median: 210.0\n",
            "Cat: use_telephone\n",
            "Mean: 1171.15, Max: 2857, MIn: 333, Median: 995.0\n",
            "Cat: walk\n",
            "Mean: 922.54, Max: 3153, MIn: 187, Median: 914.0\n",
            "Cat: standup_chair\n",
            "Mean: 249.19, Max: 545, MIn: 141, Median: 205.5\n",
            "Cat: descend_stairs\n",
            "Mean: 366.07, Max: 594, MIn: 156, Median: 363.5\n",
            "Cat: brush_teeth\n",
            "Mean: 2485.75, Max: 3199, MIn: 844, Median: 2484.5\n",
            "Cat: liedown_bed\n",
            "Mean: 408.79, Max: 736, MIn: 212, Median: 400.0\n",
            "Cat: eat_meat\n",
            "Mean: 6247.20, Max: 9318, MIn: 4251, Median: 5859.0\n",
            "Cat: drink_glass\n",
            "Mean: 427.92, Max: 1322, MIn: 255, Median: 376.0\n",
            "Cat: getup_bed\n",
            "Mean: 453.48, Max: 769, MIn: 256, Median: 454.0\n",
            "Cat: comb_hair\n",
            "Mean: 758.19, Max: 1282, MIn: 403, Median: 753.0\n",
            "Cat: eat_soup\n",
            "Mean: 2227.67, Max: 2300, MIn: 2150, Median: 2233.0\n"
          ]
        }
      ]
    },
    {
      "cell_type": "code",
      "source": [
        "for i in df1.cat.unique():\n",
        "  print(f\"class:{i}, length:{len(df1[df1['cat']==i]['date_time'].unique())}\")"
      ],
      "metadata": {
        "colab": {
          "base_uri": "https://localhost:8080/"
        },
        "id": "cvzXZNlQm825",
        "outputId": "5a074299-10b3-4d56-f8b7-a1b83afe870d"
      },
      "execution_count": 49,
      "outputs": [
        {
          "output_type": "stream",
          "name": "stdout",
          "text": [
            "class:pour_water, length:100\n",
            "class:climb_stairs, length:102\n",
            "class:sitdown_chair, length:100\n",
            "class:use_telephone, length:13\n",
            "class:walk, length:100\n",
            "class:standup_chair, length:102\n",
            "class:descend_stairs, length:42\n",
            "class:brush_teeth, length:12\n",
            "class:liedown_bed, length:28\n",
            "class:eat_meat, length:5\n",
            "class:drink_glass, length:100\n",
            "class:getup_bed, length:101\n",
            "class:comb_hair, length:31\n",
            "class:eat_soup, length:3\n"
          ]
        }
      ]
    },
    {
      "cell_type": "code",
      "source": [
        "''' Characteristics of the data : no sequence starting date and time has been \n",
        "repeated. \n",
        "Implemented :\n",
        "\n",
        "Cleaning:\n",
        "median Filtering \n",
        "\n",
        "time domain: \n",
        "max\n",
        "mean\n",
        "std\n",
        "\n",
        "freq domain:\n",
        "FFT \n",
        "Spectrogram \n",
        "power spectral analysis \n",
        "\n",
        "Todo:\n",
        "select the correct classes for equal time sampling \n",
        "Spectroscope : mel filters \n",
        "band pass filtering\n",
        "\n",
        "'''\n",
        "class PreProcessing:\n",
        "  def __init__(self, data):\n",
        "    self.df = data\n",
        "    self.dev_x_timed = defaultdict(list) # time_data amplitude\n",
        "    self.dev_y_timed = defaultdict(list)\n",
        "    self.dev_z_timed = defaultdict(list)\n",
        "    self.x_fft_cat = defaultdict(list) # fft \n",
        "    self.y_fft_cat = defaultdict(list)\n",
        "    self.z_fft_cat = defaultdict(list)\n",
        "    self.x_spec_cat = defaultdict(list) # spectroscope data \n",
        "    self.y_spec_cat = defaultdict(list)\n",
        "    self.z_spec_cat = defaultdict(list)\n",
        "    self.x_PSD_cat = defaultdict(list) # PSD data []\n",
        "    self.y_PSD_cat = defaultdict(list)\n",
        "    self.z_PSD_cat = defaultdict(list)\n",
        "\n",
        "  def plot_data(self,ylabel, xlabel, title, data, typedata=\"slice\", col=\"\"):\n",
        "    plt.ylim([-15, 15])\n",
        "    if typedata=='slice':\n",
        "      plt.xlim([0, len(data)])\n",
        "      plt.plot(data)\n",
        "    elif typedata=='sequence':\n",
        "      plt.xlim([0, len(data[col])])\n",
        "      plt.plot(data[col].values)\n",
        "    plt.ylabel(ylabel)\n",
        "    plt.xlabel(xlabel)\n",
        "    plt.title(title)\n",
        "    plt.grid()\n",
        "    plt.show()\n",
        "\n",
        "  def remove_noise(self, data): # applying median filter \n",
        "    kernel_size = 3 # size of the filter \n",
        "    return scipy.signal.medfilt(data.values, kernel_size = \n",
        "                                               kernel_size)\n",
        "\n",
        "  def sequence_cleaner(self):\n",
        "    # clean sequence for each cat    \n",
        "    for i in self.iterator_generator('seq'):\n",
        "      self.df.loc[self.df['date_time']==i, 'X'] = self.remove_noise(self.df[self.df['date_time']\n",
        "                                                                   ==i]['X'])\n",
        "      self.df.loc[self.df['date_time']==i, 'Y'] = self.remove_noise(self.df[self.df['date_time']\n",
        "                                                                   ==i]['Y'])                                                                      \n",
        "      self.df.loc[self.df['date_time']==i, 'Z'] = self.remove_noise(self.df[self.df['date_time']\n",
        "                                                                   ==i]['Z'])\n",
        "      \n",
        "  def calc_time_domain(self, sample):\n",
        "    mean_x, mean_y, mean_z = sample['X'].mean(), sample['Y'].mean(), sample['Z'].mean()\n",
        "    std_x, std_y, std_z = sample['X'].std(), sample['Y'].std(), sample['Z'].std()\n",
        "    max_x, max_y, max_z = sample['X'].max(), sample['Y'].max(), sample['Z'].max()\n",
        "    id = sample.cat.unique()[0]\n",
        "    self.dev_x_timed[id].append([mean_x, std_x, max_x])\n",
        "    self.dev_y_timed[id].append([mean_y, std_y, max_y])\n",
        "    self.dev_z_timed[id].append([mean_z, std_z, max_z])\n",
        "  \n",
        "  def calc_fft(self, data):\n",
        "    \n",
        "    yf = scipy.fftpack.fft(data.values)\n",
        "    xf = scipy.fftpack.fftfreq(len(data), d =1/32)\n",
        "    \n",
        "    return [yf[:len(xf)//2+1], xf[:len(xf)//2+1]]\n",
        "  \n",
        "  def plot_FFT(self, cat, pos, axis):\n",
        "    if axis=='X':\n",
        "      xf = self.x_fft_cat[cat][pos][-1]\n",
        "      yf = self.x_fft_cat[cat][pos][0]\n",
        "    if axis=='Y':\n",
        "      xf = self.y_fft_cat[cat][pos][-1]\n",
        "      yf = self.y_fft_cat[cat][pos][0]\n",
        "    if axis=='Z':\n",
        "      xf = self.z_fft_cat[cat][pos][-1]\n",
        "      yf = self.z_fft_cat[cat][pos][0]\n",
        "    \n",
        "    plt.plot(xf, np.abs(yf))\n",
        "    plt.grid()\n",
        "    plt.title(cat)\n",
        "    plt.xlim([0, np.max(xf)])\n",
        "    plt.ylabel('Amplitude')\n",
        "    plt.xlabel('Frequency[Hz]');\n",
        "    plt.show()\n",
        "\n",
        "  def feature_extraction(self):\n",
        "    for i in self.iterator_generator('seq'):\n",
        "      data_X = self.df[self.df['date_time']==i]['X']\n",
        "      data_Y = self.df[self.df['date_time']==i]['Y']\n",
        "      data_Z = self.df[self.df['date_time']==i]['Z']\n",
        "      \n",
        "      # Time domain \n",
        "      self.calc_time_domain(self.df[self.df['date_time']==i])\n",
        "\n",
        "      #Freq Domain \n",
        "      #FFT \n",
        "      self.x_fft_cat[self.df[self.df['date_time']==i]['cat'].unique()[0]].append(self.calc_fft(data_X))\n",
        "      \n",
        "      self.y_fft_cat[self.df[self.df['date_time']==i]['cat'].unique()[0]].append(self.calc_fft(\n",
        "          data_Y\n",
        "      ))\n",
        "      self.z_fft_cat[self.df[self.df['date_time']==i]['cat'].unique()[0]].append(self.calc_fft(\n",
        "          data_Z\n",
        "      ))\n",
        "\n",
        "      # Spectrogram \n",
        "      self.x_spec_cat[self.df[self.df['date_time']==i]['cat'].unique()[0]].append(self.Spectrogram_maker(data_X))\n",
        "      self.y_spec_cat[self.df[self.df['date_time']==i]['cat'].unique()[0]].append(self.Spectrogram_maker(data_Y))\n",
        "      self.z_spec_cat[self.df[self.df['date_time']==i]['cat'].unique()[0]].append(self.Spectrogram_maker(data_Z))\n",
        "      \n",
        "      # PSD\n",
        "      self.x_PSD_cat[self.df[self.df['date_time']==i]['cat'].unique()[0]].append(self.PSD_maker(data_X))\n",
        "      self.y_PSD_cat[self.df[self.df['date_time']==i]['cat'].unique()[0]].append(self.PSD_maker(data_Y))\n",
        "      self.z_PSD_cat[self.df[self.df['date_time']==i]['cat'].unique()[0]].append(self.PSD_maker(data_Z))\n",
        "      \n",
        "\n",
        "  def PSD_plotter(self, cat, pos, axis):\n",
        "    if axis=='X':\n",
        "      f = self.x_PSD_cat[cat][pos][0]\n",
        "      Pxx_den = self.x_PSD_cat[cat][pos][-1]\n",
        "    if axis=='Y':\n",
        "      f = self.y_PSD_cat[cat][pos][0]\n",
        "      Pxx_den = self.y_PSD_cat[cat][pos][-1]\n",
        "    if axis=='Z':\n",
        "      f = self.z_PSD_cat[cat][pos][0]\n",
        "      Pxx_den = self.z_PSD_cat[cat][pos][-1]\n",
        "    \n",
        "    plt.semilogy(f, Pxx_den)\n",
        "    plt.grid()\n",
        "    plt.title(cat)\n",
        "    plt.xlabel('frequency [Hz]')\n",
        "    plt.ylabel('PSD [V**2/Hz]')\n",
        "    plt.show()\n",
        "  \n",
        "  def PSD_maker(self, data):\n",
        "    f, Pxx_den = scipy.signal.welch(data, fs=32, nperseg=128, window = 'hanning')\n",
        "    return [f, Pxx_den]\n",
        "\n",
        "  def Spectrogram_maker(self, data):\n",
        "     freqs, times, Sx = scipy.signal.spectrogram(data, fs=32, window='hanning',\n",
        "                                          nperseg = 128,\n",
        "                                          scaling='spectrum')\n",
        "     return [freqs, times, Sx]\n",
        "  \n",
        "  def Spectrogram_plotter(self,cat, pos, axis):\n",
        "    if axis=='X':\n",
        "      freqs = self.x_spec_cat[cat][pos][0]\n",
        "      times = self.x_spec_cat[cat][pos][1]\n",
        "      Sx = self.x_spec_cat[cat][pos][2]\n",
        "    if axis=='Y':\n",
        "      freqs = self.y_spec_cat[cat][pos][0]\n",
        "      times = self.y_spec_cat[cat][pos][1]\n",
        "      Sx = self.y_spec_cat[cat][pos][2]\n",
        "    if axis=='Z':\n",
        "      freqs = self.z_spec_cat[cat][pos][0]\n",
        "      times = self.z_spec_cat[cat][pos][1]\n",
        "      Sx = self.z_spec_cat[cat][pos][2]\n",
        "    plt.pcolormesh(times, freqs , np.log10(Sx), cmap='viridis')\n",
        "    plt.colorbar()\n",
        "    plt.title(cat)\n",
        "    plt.ylabel('Frequency [Hz] (log10(Power spectrum))')\n",
        "    plt.xlabel('Time [s]')\n",
        "    \n",
        "    plt.show()\n",
        "\n",
        "  def iterator_generator(self, it):\n",
        "    seq_lst = self.df['date_time'].unique()\n",
        "    id_lst = self.df['subject_id'].unique()\n",
        "    cat_lst = self.df['cat'].unique()\n",
        "    if it=='seq':\n",
        "      return seq_lst\n",
        "    elif it=='id':\n",
        "      return id_lst\n",
        "    elif it=='cat':\n",
        "      return cat_lst"
      ],
      "metadata": {
        "id": "6rt-7q1KQCUc"
      },
      "execution_count": 14,
      "outputs": []
    },
    {
      "cell_type": "code",
      "source": [
        "b = PreProcessing(df1)"
      ],
      "metadata": {
        "id": "DoxZsrk4p-c7"
      },
      "execution_count": 15,
      "outputs": []
    },
    {
      "cell_type": "code",
      "source": [
        "# Testing the process \n",
        "# raw data plot \n",
        "b.plot_data(\"acc\", \"time\", \"walk_24/3/11\",df1[(df1['date_time']=='2011-03-24-11-20-24') & (df1['cat']=='walk')]['Z'].values)\n",
        "# clean data \n",
        "a = b.remove_noise(df1[(df1['date_time']=='2011-03-24-11-20-24') & (df1['cat']=='walk')]['Z'])\n",
        "b.plot_data(\"acc\", \"time\", \"walk_24/3/11\", a)\n"
      ],
      "metadata": {
        "id": "vZr17xVtySIM",
        "colab": {
          "base_uri": "https://localhost:8080/",
          "height": 573
        },
        "outputId": "e524dde1-9f38-4fee-902c-80c7249ec628"
      },
      "execution_count": 16,
      "outputs": [
        {
          "output_type": "display_data",
          "data": {
            "text/plain": [
              "<Figure size 432x288 with 1 Axes>"
            ],
            "image/png": "[encoded data removed]"
          },
          "metadata": {
            "needs_background": "light"
          }
        },
        {
          "output_type": "display_data",
          "data": {
            "text/plain": [
              "<Figure size 432x288 with 1 Axes>"
            ],
            "image/png": "[encoded data removed]"
          },
          "metadata": {
            "needs_background": "light"
          }
        }
      ]
    },
    {
      "cell_type": "code",
      "source": [
        "# sequential cleaning of data (2min processing time)\n",
        "b.sequence_cleaner()"
      ],
      "metadata": {
        "id": "RWAxwHY8D63c"
      },
      "execution_count": 17,
      "outputs": []
    },
    {
      "cell_type": "code",
      "source": [
        "b.df\n"
      ],
      "metadata": {
        "colab": {
          "base_uri": "https://localhost:8080/",
          "height": 424
        },
        "id": "jwYOds6suUnH",
        "outputId": "f9cd41ac-763f-4774-8a1b-259011719ecb"
      },
      "execution_count": 18,
      "outputs": [
        {
          "output_type": "execute_result",
          "data": {
            "text/plain": [
              "        Unnamed: 0         X         Y         Z subject_id         cat  \\\n",
              "0                0  2.101286  5.836905  7.704714         f1  pour_water   \n",
              "1                1  2.101286  5.836905  7.704714         f1  pour_water   \n",
              "2                2  2.101286  5.836905  8.171667         f1  pour_water   \n",
              "3                3  2.101286  5.369952  8.171667         f1  pour_water   \n",
              "4                4  2.101286  5.836905  8.171667         f1  pour_water   \n",
              "...            ...       ...       ...       ...        ...         ...   \n",
              "446524      446524  1.634333  7.704714  6.770810         f1    eat_soup   \n",
              "446525      446525  1.634333  7.704714  6.770810         f1    eat_soup   \n",
              "446526      446526  1.634333  7.237762  6.770810         f1    eat_soup   \n",
              "446527      446527  1.634333  7.237762  6.770810         f1    eat_soup   \n",
              "446528      446528  1.634333  7.237762  6.770810         f1    eat_soup   \n",
              "\n",
              "                  date_time  \n",
              "0       2011-03-24-10-51-12  \n",
              "1       2011-03-24-10-51-12  \n",
              "2       2011-03-24-10-51-12  \n",
              "3       2011-03-24-10-51-12  \n",
              "4       2011-03-24-10-51-12  \n",
              "...                     ...  \n",
              "446524  2011-03-24-13-56-42  \n",
              "446525  2011-03-24-13-56-42  \n",
              "446526  2011-03-24-13-56-42  \n",
              "446527  2011-03-24-13-56-42  \n",
              "446528  2011-03-24-13-56-42  \n",
              "\n",
              "[446529 rows x 7 columns]"
            ],
            "text/html": [
              "\n",
              "  <div id=\"df-659f6d8a-6eab-4366-9b5e-16720ad57345\">\n",
              "    <div class=\"colab-df-container\">\n",
              "      <div>\n",
              "<style scoped>\n",
              "    .dataframe tbody tr th:only-of-type {\n",
              "        vertical-align: middle;\n",
              "    }\n",
              "\n",
              "    .dataframe tbody tr th {\n",
              "        vertical-align: top;\n",
              "    }\n",
              "\n",
              "    .dataframe thead th {\n",
              "        text-align: right;\n",
              "    }\n",
              "</style>\n",
              "<table border=\"1\" class=\"dataframe\">\n",
              "  <thead>\n",
              "    <tr style=\"text-align: right;\">\n",
              "      <th></th>\n",
              "      <th>Unnamed: 0</th>\n",
              "      <th>X</th>\n",
              "      <th>Y</th>\n",
              "      <th>Z</th>\n",
              "      <th>subject_id</th>\n",
              "      <th>cat</th>\n",
              "      <th>date_time</th>\n",
              "    </tr>\n",
              "  </thead>\n",
              "  <tbody>\n",
              "    <tr>\n",
              "      <th>0</th>\n",
              "      <td>0</td>\n",
              "      <td>2.101286</td>\n",
              "      <td>5.836905</td>\n",
              "      <td>7.704714</td>\n",
              "      <td>f1</td>\n",
              "      <td>pour_water</td>\n",
              "      <td>2011-03-24-10-51-12</td>\n",
              "    </tr>\n",
              "    <tr>\n",
              "      <th>1</th>\n",
              "      <td>1</td>\n",
              "      <td>2.101286</td>\n",
              "      <td>5.836905</td>\n",
              "      <td>7.704714</td>\n",
              "      <td>f1</td>\n",
              "      <td>pour_water</td>\n",
              "      <td>2011-03-24-10-51-12</td>\n",
              "    </tr>\n",
              "    <tr>\n",
              "      <th>2</th>\n",
              "      <td>2</td>\n",
              "      <td>2.101286</td>\n",
              "      <td>5.836905</td>\n",
              "      <td>8.171667</td>\n",
              "      <td>f1</td>\n",
              "      <td>pour_water</td>\n",
              "      <td>2011-03-24-10-51-12</td>\n",
              "    </tr>\n",
              "    <tr>\n",
              "      <th>3</th>\n",
              "      <td>3</td>\n",
              "      <td>2.101286</td>\n",
              "      <td>5.369952</td>\n",
              "      <td>8.171667</td>\n",
              "      <td>f1</td>\n",
              "      <td>pour_water</td>\n",
              "      <td>2011-03-24-10-51-12</td>\n",
              "    </tr>\n",
              "    <tr>\n",
              "      <th>4</th>\n",
              "      <td>4</td>\n",
              "      <td>2.101286</td>\n",
              "      <td>5.836905</td>\n",
              "      <td>8.171667</td>\n",
              "      <td>f1</td>\n",
              "      <td>pour_water</td>\n",
              "      <td>2011-03-24-10-51-12</td>\n",
              "    </tr>\n",
              "    <tr>\n",
              "      <th>...</th>\n",
              "      <td>...</td>\n",
              "      <td>...</td>\n",
              "      <td>...</td>\n",
              "      <td>...</td>\n",
              "      <td>...</td>\n",
              "      <td>...</td>\n",
              "      <td>...</td>\n",
              "    </tr>\n",
              "    <tr>\n",
              "      <th>446524</th>\n",
              "      <td>446524</td>\n",
              "      <td>1.634333</td>\n",
              "      <td>7.704714</td>\n",
              "      <td>6.770810</td>\n",
              "      <td>f1</td>\n",
              "      <td>eat_soup</td>\n",
              "      <td>2011-03-24-13-56-42</td>\n",
              "    </tr>\n",
              "    <tr>\n",
              "      <th>446525</th>\n",
              "      <td>446525</td>\n",
              "      <td>1.634333</td>\n",
              "      <td>7.704714</td>\n",
              "      <td>6.770810</td>\n",
              "      <td>f1</td>\n",
              "      <td>eat_soup</td>\n",
              "      <td>2011-03-24-13-56-42</td>\n",
              "    </tr>\n",
              "    <tr>\n",
              "      <th>446526</th>\n",
              "      <td>446526</td>\n",
              "      <td>1.634333</td>\n",
              "      <td>7.237762</td>\n",
              "      <td>6.770810</td>\n",
              "      <td>f1</td>\n",
              "      <td>eat_soup</td>\n",
              "      <td>2011-03-24-13-56-42</td>\n",
              "    </tr>\n",
              "    <tr>\n",
              "      <th>446527</th>\n",
              "      <td>446527</td>\n",
              "      <td>1.634333</td>\n",
              "      <td>7.237762</td>\n",
              "      <td>6.770810</td>\n",
              "      <td>f1</td>\n",
              "      <td>eat_soup</td>\n",
              "      <td>2011-03-24-13-56-42</td>\n",
              "    </tr>\n",
              "    <tr>\n",
              "      <th>446528</th>\n",
              "      <td>446528</td>\n",
              "      <td>1.634333</td>\n",
              "      <td>7.237762</td>\n",
              "      <td>6.770810</td>\n",
              "      <td>f1</td>\n",
              "      <td>eat_soup</td>\n",
              "      <td>2011-03-24-13-56-42</td>\n",
              "    </tr>\n",
              "  </tbody>\n",
              "</table>\n",
              "<p>446529 rows × 7 columns</p>\n",
              "</div>\n",
              "      <button class=\"colab-df-convert\" onclick=\"convertToInteractive('df-659f6d8a-6eab-4366-9b5e-16720ad57345')\"\n",
              "              title=\"Convert this dataframe to an interactive table.\"\n",
              "              style=\"display:none;\">\n",
              "        \n",
              "  <svg xmlns=\"http://www.w3.org/2000/svg\" height=\"24px\"viewBox=\"0 0 24 24\"\n",
              "       width=\"24px\">\n",
              "    <path d=\"M0 0h24v24H0V0z\" fill=\"none\"/>\n",
              "    <path d=\"M18.56 5.44l.94 2.06.94-2.06 2.06-.94-2.06-.94-.94-2.06-.94 2.06-2.06.94zm-11 1L8.5 8.5l.94-2.06 2.06-.94-2.06-.94L8.5 2.5l-.94 2.06-2.06.94zm10 10l.94 2.06.94-2.06 2.06-.94-2.06-.94-.94-2.06-.94 2.06-2.06.94z\"/><path d=\"M17.41 7.96l-1.37-1.37c-.4-.4-.92-.59-1.43-.59-.52 0-1.04.2-1.43.59L10.3 9.45l-7.72 7.72c-.78.78-.78 2.05 0 2.83L4 21.41c.39.39.9.59 1.41.59.51 0 1.02-.2 1.41-.59l7.78-7.78 2.81-2.81c.8-.78.8-2.07 0-2.86zM5.41 20L4 18.59l7.72-7.72 1.47 1.35L5.41 20z\"/>\n",
              "  </svg>\n",
              "      </button>\n",
              "      \n",
              "  <style>\n",
              "    .colab-df-container {\n",
              "      display:flex;\n",
              "      flex-wrap:wrap;\n",
              "      gap: 12px;\n",
              "    }\n",
              "\n",
              "    .colab-df-convert {\n",
              "      background-color: #E8F0FE;\n",
              "      border: none;\n",
              "      border-radius: 50%;\n",
              "      cursor: pointer;\n",
              "      display: none;\n",
              "      fill: #1967D2;\n",
              "      height: 32px;\n",
              "      padding: 0 0 0 0;\n",
              "      width: 32px;\n",
              "    }\n",
              "\n",
              "    .colab-df-convert:hover {\n",
              "      background-color: #E2EBFA;\n",
              "      box-shadow: 0px 1px 2px rgba(60, 64, 67, 0.3), 0px 1px 3px 1px rgba(60, 64, 67, 0.15);\n",
              "      fill: #174EA6;\n",
              "    }\n",
              "\n",
              "    [theme=dark] .colab-df-convert {\n",
              "      background-color: #3B4455;\n",
              "      fill: #D2E3FC;\n",
              "    }\n",
              "\n",
              "    [theme=dark] .colab-df-convert:hover {\n",
              "      background-color: #434B5C;\n",
              "      box-shadow: 0px 1px 3px 1px rgba(0, 0, 0, 0.15);\n",
              "      filter: drop-shadow(0px 1px 2px rgba(0, 0, 0, 0.3));\n",
              "      fill: #FFFFFF;\n",
              "    }\n",
              "  </style>\n",
              "\n",
              "      <script>\n",
              "        const buttonEl =\n",
              "          document.querySelector('#df-659f6d8a-6eab-4366-9b5e-16720ad57345 button.colab-df-convert');\n",
              "        buttonEl.style.display =\n",
              "          google.colab.kernel.accessAllowed ? 'block' : 'none';\n",
              "\n",
              "        async function convertToInteractive(key) {\n",
              "          const element = document.querySelector('#df-659f6d8a-6eab-4366-9b5e-16720ad57345');\n",
              "          const dataTable =\n",
              "            await google.colab.kernel.invokeFunction('convertToInteractive',\n",
              "                                                     [key], {});\n",
              "          if (!dataTable) return;\n",
              "\n",
              "          const docLinkHtml = 'Like what you see? Visit the ' +\n",
              "            '<a target=\"_blank\" href=https://colab.research.google.com/notebooks/data_table.ipynb>data table notebook</a>'\n",
              "            + ' to learn more about interactive tables.';\n",
              "          element.innerHTML = '';\n",
              "          dataTable['output_type'] = 'display_data';\n",
              "          await google.colab.output.renderOutput(dataTable, element);\n",
              "          const docLink = document.createElement('div');\n",
              "          docLink.innerHTML = docLinkHtml;\n",
              "          element.appendChild(docLink);\n",
              "        }\n",
              "      </script>\n",
              "    </div>\n",
              "  </div>\n",
              "  "
            ]
          },
          "metadata": {},
          "execution_count": 18
        }
      ]
    },
    {
      "cell_type": "code",
      "source": [
        "# extracting features \n",
        "\n",
        "b.feature_extraction()\n"
      ],
      "metadata": {
        "id": "FtL7Z0ClbZPP",
        "colab": {
          "base_uri": "https://localhost:8080/"
        },
        "outputId": "4f3e91cb-5ef5-4256-87f9-a1fa000ca167"
      },
      "execution_count": 19,
      "outputs": [
        {
          "output_type": "stream",
          "name": "stderr",
          "text": [
            "/usr/local/lib/python3.7/dist-packages/scipy/signal/spectral.py:1966: UserWarning: nperseg = 128 is greater than input length  = 125, using nperseg = 125\n",
            "  .format(nperseg, input_length))\n"
          ]
        }
      ]
    },
    {
      "cell_type": "code",
      "source": [
        "b.x_fft_cat['brush_teeth'][2][-1]"
      ],
      "metadata": {
        "colab": {
          "base_uri": "https://localhost:8080/"
        },
        "id": "l61Gc6qu27hB",
        "outputId": "6b8c8790-9890-46d5-c50c-f871c8b4ce6d"
      },
      "execution_count": 20,
      "outputs": [
        {
          "output_type": "execute_result",
          "data": {
            "text/plain": [
              "array([ 0.00000000e+00,  1.43626571e-02,  2.87253142e-02, ...,\n",
              "        1.59712747e+01,  1.59856373e+01, -1.60000000e+01])"
            ]
          },
          "metadata": {},
          "execution_count": 20
        }
      ]
    },
    {
      "cell_type": "code",
      "source": [
        "b.plot_FFT('brush_teeth', 2, 'X')\n",
        "b.plot_FFT('brush_teeth', 1, 'X')\n",
        "b.plot_FFT('descend_stairs', 2, 'X')"
      ],
      "metadata": {
        "colab": {
          "base_uri": "https://localhost:8080/",
          "height": 851
        },
        "id": "GDDJeg0-z5ws",
        "outputId": "75e33409-a5ac-4754-edfb-d8b14d065398"
      },
      "execution_count": 21,
      "outputs": [
        {
          "output_type": "display_data",
          "data": {
            "text/plain": [
              "<Figure size 432x288 with 1 Axes>"
            ],
            "image/png": "[encoded data removed]"
          },
          "metadata": {
            "needs_background": "light"
          }
        },
        {
          "output_type": "display_data",
          "data": {
            "text/plain": [
              "<Figure size 432x288 with 1 Axes>"
            ],
            "image/png": "[encoded data removed]"
          },
          "metadata": {
            "needs_background": "light"
          }
        },
        {
          "output_type": "display_data",
          "data": {
            "text/plain": [
              "<Figure size 432x288 with 1 Axes>"
            ],
            "image/png": "[encoded data removed]"
          },
          "metadata": {
            "needs_background": "light"
          }
        }
      ]
    },
    {
      "cell_type": "code",
      "source": [
        "b.Spectrogram_plotter('brush_teeth', 2, 'X')\n",
        "b.Spectrogram_plotter('eat_meat', 2, 'X')\n",
        "b.Spectrogram_plotter('descend_stairs', 2, 'X')"
      ],
      "metadata": {
        "id": "TClsn5if6wQK",
        "colab": {
          "base_uri": "https://localhost:8080/",
          "height": 851
        },
        "outputId": "ec0f3e6d-2e7c-4e9e-e5fe-465edf10d692"
      },
      "execution_count": 22,
      "outputs": [
        {
          "output_type": "display_data",
          "data": {
            "text/plain": [
              "<Figure size 432x288 with 2 Axes>"
            ],
            "image/png": "[encoded data removed]"
          },
          "metadata": {
            "needs_background": "light"
          }
        },
        {
          "output_type": "display_data",
          "data": {
            "text/plain": [
              "<Figure size 432x288 with 2 Axes>"
            ],
            "image/png": "[encoded data removed]"
          },
          "metadata": {
            "needs_background": "light"
          }
        },
        {
          "output_type": "display_data",
          "data": {
            "text/plain": [
              "<Figure size 432x288 with 2 Axes>"
            ],
            "image/png": "[encoded data removed]"
          },
          "metadata": {
            "needs_background": "light"
          }
        }
      ]
    },
    {
      "cell_type": "code",
      "source": [
        "#print(df1[df1['date_time']=='2011-03-24-13-56-42']['Y'])\n",
        "b.PSD_plotter('brush_teeth', 2, 'X')\n",
        "b.PSD_plotter('descend_stairs', 2, 'X')\n",
        "b.PSD_plotter('eat_meat', 2, 'X')"
      ],
      "metadata": {
        "colab": {
          "base_uri": "https://localhost:8080/",
          "height": 851
        },
        "id": "jukWQ5g_t9NG",
        "outputId": "488e8664-8d3b-48c0-e447-98402eed89e4"
      },
      "execution_count": 23,
      "outputs": [
        {
          "output_type": "display_data",
          "data": {
            "text/plain": [
              "<Figure size 432x288 with 1 Axes>"
            ],
            "image/png": "[encoded data removed]"
          },
          "metadata": {
            "needs_background": "light"
          }
        },
        {
          "output_type": "display_data",
          "data": {
            "text/plain": [
              "<Figure size 432x288 with 1 Axes>"
            ],
            "image/png": "[encoded data removed]"
          },
          "metadata": {
            "needs_background": "light"
          }
        },
        {
          "output_type": "display_data",
          "data": {
            "text/plain": [
              "<Figure size 432x288 with 1 Axes>"
            ],
            "image/png": "[encoded data removed]"
          },
          "metadata": {
            "needs_background": "light"
          }
        }
      ]
    },
    {
      "cell_type": "code",
      "source": [
        "# Models (yet to be implemented)\n",
        "# link : https://github.com/qiuqiangkong/audioset_tagging_cnn/blob/master/pytorch/models.py (PANN)\n",
        "\n",
        "\n",
        "class Conv2D(pl.LightningModule):\n",
        "  def __init__(self, input_size, output_size):\n",
        "    super(Conv2D, self).__init__()\n",
        "    self.cv1 = nn.Conv2d(in_channels=input_size, out_channels=output_size,\n",
        "                           kernel_size=(3, 3), stride=(1, 1),\n",
        "                              padding=(1, 1), bias=False)\n",
        "    self.cv2 = nn.Conv2d(in_channels=input_size, out_channels=output_size,\n",
        "                           kernel_size=(3, 3), stride=(1, 1),\n",
        "                              padding=(1, 1), bias=False)\n",
        "    self.bn1 = nn.BatchNorm2d(output_size)\n",
        "    self.bn2 = nn.BatchNorm2d(output_size)\n",
        "    # doubt: initializing the weights \n",
        "\n",
        "  def forward(self, input, pool_size=(2, 2), pool_type='avg'):\n",
        "    x = input\n",
        "    x = nn.ReLU(self.bn1(self.cv1(x)))\n",
        "    x = nn.ReLU(self.bn2(self.cv2(x)))\n",
        "    if pool_type == 'max':\n",
        "      x = nn.MaxPool2d(x, pool_size)\n",
        "    elif pool_type == 'avg':\n",
        "      x = nn.AvgPool2d(x, pool_size)\n",
        "    elif pool_type == 'avg+max':\n",
        "      x1 = nn.MaxPool2d(x, pool_size)\n",
        "      x2 = nn.AvgPool2d(x, pool_size)\n",
        "      x = x1 + x2 # merge and run ? \n",
        "    return x \n",
        "\n",
        "class CNN14(pl.LightningModule):\n",
        "  def __init__(self):\n",
        "    super(CNN14, self).__init__()\n",
        "    # doubt: Mel filter bank and Spectrogram specs\n",
        "    self.bn0 = nn.BatchNorm2d(64)\n",
        "    self.conv_block1 = Conv2D(1, 64)\n",
        "    self.conv_block2 = Conv2D(64, 128)\n",
        "    self.conv_block3 = Conv2D(128, 256)\n",
        "    self.conv_block4 = Conv2D(256, 512)\n",
        "    self.conv_block5 = Conv2D(512, 1024)\n",
        "    self.conv_block6 = Conv2D(1024, 2048)\n",
        "    self.fc1 = nn.Linear(2048, 2048, bias=True)\n",
        "    self.fc_2 = nn.Linear(2048, 14, bias=True)\n",
        "    self.loss = nn.CrossEntropyLoss()\n",
        "\n",
        "  def forward(self, x, input):\n",
        "    # operations with input \n",
        "\n",
        "    x = self.conv_block1(x, pool_size=(2, 2), pool_type='avg')\n",
        "    x = nn.Dropout(x, p=0.2)\n",
        "    x = self.conv_block2(x, pool_size=(2, 2), pool_type='avg')\n",
        "    x = nn.Dropout(x, p=0.2)\n",
        "    x = self.conv_block3(x, pool_size=(2, 2), pool_type='avg')\n",
        "    x = nn.Dropout(x, p=0.2)\n",
        "    x = self.conv_block4(x, pool_size=(2, 2), pool_type='avg')\n",
        "    x = nn.Dropout(x, p=0.2)\n",
        "    x = self.conv_block5(x, pool_size=(2, 2), pool_type='avg')\n",
        "    x = nn.Dropout(x, p=0.2)\n",
        "    x = self.conv_block6(x, pool_size=(1, 1), pool_type='avg')\n",
        "    x = nn.Dropout(x, p=0.2)\n",
        "    # global pooling \n",
        "    x = torch.mean(x, dim=3)\n",
        "    (x1, _) = torch.max(x, dim=2)\n",
        "    x2 = torch.mean(x, dim=2)\n",
        "    x = x1 + x2\n",
        "    x = nn.dropout(x, p=0.5, training=self.training)\n",
        "    x = nn.ReLU(self.fc1(x))\n",
        "    clipwise_output = torch.sigmoid(self.fc_2(x))\n",
        "  \n",
        "  def training_step(self, batch, batch_idx): \n",
        "    x, y = batch\n",
        "    x = x.reshape(x.shape[0], -1) \n",
        "    l = self(x, [batch, len(x)]) # logit \n",
        "    J = self.loss(l, y)\n",
        "    self.log(\"train_loss\", J, on_step=True, on_epoch=True, prog_bar=True, logger=True)\n",
        "    return J\n",
        "  \n",
        "  def configure_optimizers(self):         # Optimizer\n",
        "    opt = torch.optim.SGD(self.parameters(), lr = 1e-2)\n",
        "    return opt\n",
        "    \n",
        "'''\n",
        "hyperparameter tunig see: automl, grid search \n",
        "modify the CNN14 model \n",
        "'''\n"
      ],
      "metadata": {
        "id": "8VdpFsA-eFVF"
      },
      "execution_count": null,
      "outputs": []
    },
    {
      "cell_type": "code",
      "source": [
        ""
      ],
      "metadata": {
        "id": "Fmg_q72ykcy6"
      },
      "execution_count": null,
      "outputs": []
    }
  ]
}